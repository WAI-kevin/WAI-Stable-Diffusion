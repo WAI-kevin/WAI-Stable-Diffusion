{
  "nbformat": 4,
  "nbformat_minor": 0,
  "metadata": {
    "colab": {
      "provenance": []
    },
    "kernelspec": {
      "name": "python3",
      "display_name": "Python 3"
    },
    "language_info": {
      "name": "python"
    }
  },
  "cells": [
    {
      "cell_type": "code",
      "execution_count": 1,
      "metadata": {
        "colab": {
          "base_uri": "https://localhost:8080/"
        },
        "id": "9XKG9TvBO1VS",
        "outputId": "cdcccd50-112c-4123-a5cf-f21a1a7b83ca"
      },
      "outputs": [
        {
          "output_type": "stream",
          "name": "stdout",
          "text": [
            "Mounted at /content/drive\n"
          ]
        }
      ],
      "source": [
        "from google.colab import drive\n",
        "drive.mount('/content/drive')"
      ]
    },
    {
      "cell_type": "markdown",
      "source": [
        "# 다양한 번역 모델 사용해보기 \n",
        "### 1. naver api \n",
        "### 2. google api \n",
        "### 3. transformer 기반 model (https://github.com/Huffon/pytorch-transformer-kor-eng) \n",
        "\n"
      ],
      "metadata": {
        "id": "Meq50z_yO_ev"
      }
    },
    {
      "cell_type": "code",
      "source": [
        "# 사용할 데이터 \n",
        "\n",
        "Kor_list = list()\n",
        "Eng_list = list()\n",
        "\n",
        "import json\n",
        "with open('/content/drive/MyDrive/sample_data.json') as f:    \n",
        "  json_data = json.load(f)\n",
        "  data_list:list = json_data['data']\n",
        "  for data in data_list:\n",
        "    Kor = data['ko'].replace('>', '').strip()\n",
        "    Eng = data['en'].replace('>', '').strip()\n",
        "    Kor_list.append(Kor)\n",
        "    Eng_list.append(Eng)\n",
        "\n",
        "dic = dict().fromkeys( [\"Kor_Text\", \"Eng_Text\"], [] )   \n",
        "\n",
        "for ko, en in zip(Kor_list, Eng_list):\n",
        "  dic['Kor_Text'] = Kor_list\n",
        "  dic['Eng_Text'] = Eng_list\n",
        "\n",
        "with open(\"kor_Eng.json\", \"w\", encoding='UTF-8-sig') as outfile:\n",
        "    json.dump(dic, outfile, ensure_ascii=False)\n",
        "\n",
        "\n"
      ],
      "metadata": {
        "id": "P93Lc617O4cg"
      },
      "execution_count": 6,
      "outputs": []
    },
    {
      "cell_type": "markdown",
      "source": [
        "# 1번 naver API 사용"
      ],
      "metadata": {
        "id": "sEH9UvHYQETV"
      }
    },
    {
      "cell_type": "code",
      "source": [
        "!pip install translate\n",
        "\n",
        "import json  \n",
        "import os\n",
        "import sys\n",
        "import re\n",
        "import urllib.request\n",
        "from translate import Translator\n",
        "from typing import List, Dict\n",
        "import argparse    \n",
        "\n",
        "client_id = \"LREyLtFFQZoMu7KHRMY1\" # 개발자센터에서 발급받은 Client ID 값\n",
        "client_secret = \"gCgIDWsMu7\" # 개발자센터에서 발급받은 Client Secret  \n",
        "\n",
        "def papago_api(input_text, client_id, client_secret):\n",
        "    encText = urllib.parse.quote(input_text)\n",
        "    data = \"source=ko&target=en&text=\" + encText\n",
        "    url = \"https://openapi.naver.com/v1/papago/n2mt\"\n",
        "    request = urllib.request.Request(url)\n",
        "    request.add_header(\"X-Naver-Client-Id\",client_id)\n",
        "    request.add_header(\"X-Naver-Client-Secret\",client_secret)\n",
        "    response = urllib.request.urlopen(request, data=data.encode(\"utf-8\"))\n",
        "    rescode = response.getcode()     \n",
        "    if(rescode==200):\n",
        "        response_body = response.read() \n",
        "        translated_text = response_body.decode('utf-8')\n",
        "        dic = json.loads(translated_text)         \n",
        "        text = dic['message']['result']['translatedText']         \n",
        "        return text      \n",
        "    else:\n",
        "        print(\"Error Code:\" + rescode)"
      ],
      "metadata": {
        "colab": {
          "base_uri": "https://localhost:8080/"
        },
        "id": "97kRewm8Pp3Z",
        "outputId": "a7c90f1b-b694-4f3f-b4eb-398c9a25943c"
      },
      "execution_count": 7,
      "outputs": [
        {
          "output_type": "stream",
          "name": "stdout",
          "text": [
            "Looking in indexes: https://pypi.org/simple, https://us-python.pkg.dev/colab-wheels/public/simple/\n",
            "Collecting translate\n",
            "  Downloading translate-3.6.1-py2.py3-none-any.whl (12 kB)\n",
            "Collecting libretranslatepy==2.1.1\n",
            "  Downloading libretranslatepy-2.1.1-py3-none-any.whl (3.2 kB)\n",
            "Requirement already satisfied: lxml in /usr/local/lib/python3.8/dist-packages (from translate) (4.9.2)\n",
            "Requirement already satisfied: click in /usr/local/lib/python3.8/dist-packages (from translate) (7.1.2)\n",
            "Requirement already satisfied: requests in /usr/local/lib/python3.8/dist-packages (from translate) (2.25.1)\n",
            "Requirement already satisfied: chardet<5,>=3.0.2 in /usr/local/lib/python3.8/dist-packages (from requests->translate) (4.0.0)\n",
            "Requirement already satisfied: urllib3<1.27,>=1.21.1 in /usr/local/lib/python3.8/dist-packages (from requests->translate) (1.24.3)\n",
            "Requirement already satisfied: certifi>=2017.4.17 in /usr/local/lib/python3.8/dist-packages (from requests->translate) (2022.12.7)\n",
            "Requirement already satisfied: idna<3,>=2.5 in /usr/local/lib/python3.8/dist-packages (from requests->translate) (2.10)\n",
            "Installing collected packages: libretranslatepy, translate\n",
            "Successfully installed libretranslatepy-2.1.1 translate-3.6.1\n"
          ]
        }
      ]
    },
    {
      "cell_type": "code",
      "source": [
        "naver_translated_list = list()\n",
        "naver_translated = dic['Kor_Text']\n",
        "for s in naver_translated:\n",
        "  trans = papago_api(s, client_id, client_secret)\n",
        "  naver_translated_list.append(trans)\n",
        "naver_translated_list"
      ],
      "metadata": {
        "colab": {
          "base_uri": "https://localhost:8080/"
        },
        "id": "lWmUcuUkQZ8K",
        "outputId": "316e431d-6089-4081-b081-1031608d80a7"
      },
      "execution_count": 8,
      "outputs": [
        {
          "output_type": "execute_result",
          "data": {
            "text/plain": [
              "['Oh, really?',\n",
              " 'In the car?',\n",
              " 'As a dad, that could be a little upsetting.',\n",
              " \"She's eating really slowly.\",\n",
              " 'Therefore, I will deliver this part to Kim Hana next week.',\n",
              " 'I have a turtle neck, too.',\n",
              " 'Can I say this?',\n",
              " \"We're going to hold an event as soon as it opens.\",\n",
              " 'How did it feel?',\n",
              " 'The current forecast is that it will exceed the break-even point.',\n",
              " 'This platform enables our valued customers to interact with designers online.',\n",
              " 'I am glad to hear that you are interested in purchasing our products.',\n",
              " 'Currently, we are planning to reach a wide range of customers in a short time.',\n",
              " 'I wanted to know what the Korean company looks like.',\n",
              " 'And I would appreciate it if you could let me know the earliest delivery date for the weekly magazine.',\n",
              " 'We would like to ask you to fax or send us an email after receiving the item after December 29th.',\n",
              " 'I got high scores from customers and Jongwon Baek representatives today.',\n",
              " 'Where are you going to use it?',\n",
              " \"It's amazing that you found them all.\",\n",
              " \"What? What's wrong?\",\n",
              " 'We are a five-star hotel certified by the Korea Tourism Organization.',\n",
              " \"Then I'll buy a product from BBB 1.\",\n",
              " \"Hello, I'm AAA of BBB.\",\n",
              " \"I'll do it when Seokjin comes out.\",\n",
              " 'Come, come, come.',\n",
              " 'The first delivery date of the variety used as feed has been confirmed by searching for a market.',\n",
              " 'We would like to keep our business relationship with your company deeper next season.',\n",
              " 'get in.',\n",
              " 'I will arrive on Wednesday evening, so I need an accommodation to stay from Wednesday.',\n",
              " 'What should I do?',\n",
              " \"There seems to be a discount without changing the number, so I'll ask them to pay more attention.\",\n",
              " 'I wish you always peace and everything you do goes well.',\n",
              " 'I want to see the stores.',\n",
              " 'I remember that there was an announcement that the due date would come when ordering.',\n",
              " 'You can just wash it off with water.',\n",
              " \"He's been a dog-eaten!\",\n",
              " 'I split the number three.',\n",
              " 'The restaurant closed early due to an early loss of ingredients, and the reservation fee will be refunded.',\n",
              " 'This product is made of soft pads and flexible pins.',\n",
              " 'We have grown a lot along with your products, so we like you very much.',\n",
              " 'I sincerely apologize for this inconvenience.',\n",
              " 'Tall size, please, and make sure to bring syrup.',\n",
              " 'According to the National Statistical Office, 95 percent of the waste paper currently in circulation has chemicals harmful to the human body.',\n",
              " \"You should've killed him at once.\",\n",
              " 'What?',\n",
              " 'I will continue to be a team member who follows the guidance of the manager.',\n",
              " 'It looks good on you.',\n",
              " \"It's oily and sticky, and it makes your skin look soft.\",\n",
              " 'It belongs to a certain dynasty.',\n",
              " 'You must have had a good time.',\n",
              " 'In fact, you can make soybean paste, red pepper paste, and starch syrup easily.',\n",
              " 'What should I do?',\n",
              " 'At its moderate speed, it can do 3 meters per second.',\n",
              " 'The mat handle has a deboshing logo.',\n",
              " 'One of the most popular products these days is a handmade burger.',\n",
              " 'Thank you for extending the purchase contract for underwear products.',\n",
              " \"Why don't you get a hint from historical figures who have lived their lives before us?\",\n",
              " \"Then I'll contact you again when I get back to the office.\",\n",
              " \"If you send it now, I'll check it right away.\",\n",
              " 'It is a material that can minimize debris generated when erasing.',\n",
              " 'How effective and efficient are agricultural machines?',\n",
              " 'And if you read this email, please send the money within 2 days.',\n",
              " 'jackpot.',\n",
              " 'What do you need?',\n",
              " 'Mr. Jack told me that you play golf, too.',\n",
              " 'We are not a manufacturer of consumer goods, so we are not well known to the general public.',\n",
              " 'a registered copy',\n",
              " 'I think I ate as much as I wanted when I was pregnant.',\n",
              " \"I'd like to buy a king-size mattress.\",\n",
              " 'I hope it will be of some help to the drought resolution, but I will have to wait for the news of rain again soon.',\n",
              " \"We'd like to buy medicine at a wholesale price.\",\n",
              " \"Oh, it's big.\",\n",
              " 'You can also use the premium lounge.',\n",
              " 'Mr. President.',\n",
              " \"I'm sorry I couldn't protect you.\",\n",
              " \"I should have provided you with the best taste and quality, but I'm truly sorry that I couldn't satisfy you.\",\n",
              " \"I called the mart and asked, and they keep repeating the same thing that it's being delivered.\",\n",
              " 'Oh, thank you.',\n",
              " 'So I decided to accept that part.',\n",
              " 'And please send me the shipping record to check if the product has been shipped.',\n",
              " 'Also, if you are using our bank as your main bank, you can get preferential exchange rates, so please visit our branch when you have time and we will help you with your business.',\n",
              " \"Then it's Cathy.\",\n",
              " 'The collar stays flat.',\n",
              " 'Yes, hello. This is AAA team leader in charge of overseas delivery of BB logistics that I contacted you last time.',\n",
              " 'Right.',\n",
              " 'The best living space is not achieved by technology alone.',\n",
              " 'If we make good use of that experience and technology, we expect that the development will be completed within the business period.',\n",
              " 'Can you tell me the date and time of your reservation?',\n",
              " 'I am very interested in your living room air purifier product.',\n",
              " 'Our angle-adjustable product is advantageous in checking the speed of the left and right vehicles.',\n",
              " \"So it's a good product to use indoors rather than outdoors.\",\n",
              " 'Our products are mainly composed of electronic products.',\n",
              " 'Look at that face.',\n",
              " \"It's already been recognized overseas.\",\n",
              " 'OK, OK.',\n",
              " 'Wait for now. Wait for now.',\n",
              " 'Currently, basic things such as tables and chairs are provided, but tablecloth and decorations are not available at all.',\n",
              " 'However, this is the standard for daily consumption of 0.5kg of ham for a year.',\n",
              " 'Please pay again as soon as possible.',\n",
              " \"If the problem doesn't improve, I'll change the client.\",\n",
              " 'Okay, that was good.',\n",
              " 'The lobby has a lounge where you can relax and a front desk.',\n",
              " 'How much is the wholesale price of salami sausage?',\n",
              " 'It goes through a good process.',\n",
              " 'Good job, good job.',\n",
              " 'Is this AAA B&B?',\n",
              " 'Please check if the amount for the renewal of the magazine subscription has been deposited correctly.',\n",
              " \"Yes, that's right now, but if you order, how much would it be?\",\n",
              " \"I don't\",\n",
              " 'This product is made of a mixture of 57% cotton, 38% polyester, and 5% spandex.']"
            ]
          },
          "metadata": {},
          "execution_count": 8
        }
      ]
    },
    {
      "cell_type": "markdown",
      "source": [
        "# 2번 google translate \n"
      ],
      "metadata": {
        "id": "uXAkMOtVQe3R"
      }
    },
    {
      "cell_type": "code",
      "source": [
        "!pip3 uninstall googletrans\n",
        "!pip3 install googletrans==3.1.0a0"
      ],
      "metadata": {
        "colab": {
          "base_uri": "https://localhost:8080/",
          "height": 937
        },
        "id": "7XwZYqLNQc21",
        "outputId": "07092dac-0b83-44bf-9e3e-d791881e95b7"
      },
      "execution_count": 9,
      "outputs": [
        {
          "output_type": "stream",
          "name": "stdout",
          "text": [
            "\u001b[33mWARNING: Skipping googletrans as it is not installed.\u001b[0m\u001b[33m\n",
            "\u001b[0mLooking in indexes: https://pypi.org/simple, https://us-python.pkg.dev/colab-wheels/public/simple/\n",
            "Collecting googletrans==3.1.0a0\n",
            "  Downloading googletrans-3.1.0a0.tar.gz (19 kB)\n",
            "  Preparing metadata (setup.py) ... \u001b[?25l\u001b[?25hdone\n",
            "Collecting httpx==0.13.3\n",
            "  Downloading httpx-0.13.3-py3-none-any.whl (55 kB)\n",
            "\u001b[2K     \u001b[90m━━━━━━━━━━━━━━━━━━━━━━━━━━━━━━━━━━━━━━━━\u001b[0m \u001b[32m55.1/55.1 KB\u001b[0m \u001b[31m1.5 MB/s\u001b[0m eta \u001b[36m0:00:00\u001b[0m\n",
            "\u001b[?25hCollecting chardet==3.*\n",
            "  Downloading chardet-3.0.4-py2.py3-none-any.whl (133 kB)\n",
            "\u001b[2K     \u001b[90m━━━━━━━━━━━━━━━━━━━━━━━━━━━━━━━━━━━━━━━\u001b[0m \u001b[32m133.4/133.4 KB\u001b[0m \u001b[31m6.3 MB/s\u001b[0m eta \u001b[36m0:00:00\u001b[0m\n",
            "\u001b[?25hRequirement already satisfied: idna==2.* in /usr/local/lib/python3.8/dist-packages (from httpx==0.13.3->googletrans==3.1.0a0) (2.10)\n",
            "Collecting sniffio\n",
            "  Downloading sniffio-1.3.0-py3-none-any.whl (10 kB)\n",
            "Collecting httpcore==0.9.*\n",
            "  Downloading httpcore-0.9.1-py3-none-any.whl (42 kB)\n",
            "\u001b[2K     \u001b[90m━━━━━━━━━━━━━━━━━━━━━━━━━━━━━━━━━━━━━━━━\u001b[0m \u001b[32m42.6/42.6 KB\u001b[0m \u001b[31m4.3 MB/s\u001b[0m eta \u001b[36m0:00:00\u001b[0m\n",
            "\u001b[?25hRequirement already satisfied: certifi in /usr/local/lib/python3.8/dist-packages (from httpx==0.13.3->googletrans==3.1.0a0) (2022.12.7)\n",
            "Collecting rfc3986<2,>=1.3\n",
            "  Downloading rfc3986-1.5.0-py2.py3-none-any.whl (31 kB)\n",
            "Collecting hstspreload\n",
            "  Downloading hstspreload-2023.1.1-py3-none-any.whl (1.5 MB)\n",
            "\u001b[2K     \u001b[90m━━━━━━━━━━━━━━━━━━━━━━━━━━━━━━━━━━━━━━━━\u001b[0m \u001b[32m1.5/1.5 MB\u001b[0m \u001b[31m28.1 MB/s\u001b[0m eta \u001b[36m0:00:00\u001b[0m\n",
            "\u001b[?25hCollecting h11<0.10,>=0.8\n",
            "  Downloading h11-0.9.0-py2.py3-none-any.whl (53 kB)\n",
            "\u001b[2K     \u001b[90m━━━━━━━━━━━━━━━━━━━━━━━━━━━━━━━━━━━━━━━━\u001b[0m \u001b[32m53.6/53.6 KB\u001b[0m \u001b[31m5.8 MB/s\u001b[0m eta \u001b[36m0:00:00\u001b[0m\n",
            "\u001b[?25hCollecting h2==3.*\n",
            "  Downloading h2-3.2.0-py2.py3-none-any.whl (65 kB)\n",
            "\u001b[2K     \u001b[90m━━━━━━━━━━━━━━━━━━━━━━━━━━━━━━━━━━━━━━━━\u001b[0m \u001b[32m65.0/65.0 KB\u001b[0m \u001b[31m6.6 MB/s\u001b[0m eta \u001b[36m0:00:00\u001b[0m\n",
            "\u001b[?25hCollecting hyperframe<6,>=5.2.0\n",
            "  Downloading hyperframe-5.2.0-py2.py3-none-any.whl (12 kB)\n",
            "Collecting hpack<4,>=3.0\n",
            "  Downloading hpack-3.0.0-py2.py3-none-any.whl (38 kB)\n",
            "Building wheels for collected packages: googletrans\n",
            "  Building wheel for googletrans (setup.py) ... \u001b[?25l\u001b[?25hdone\n",
            "  Created wheel for googletrans: filename=googletrans-3.1.0a0-py3-none-any.whl size=16368 sha256=9758a22961ba3785db1ef6f338af64d8e454eff7eabdc0c30b9ef68633f7b38e\n",
            "  Stored in directory: /root/.cache/pip/wheels/dd/59/af/8d6c96a719763990f1c548e36b17d9efdfb767f42f7ff39f53\n",
            "Successfully built googletrans\n",
            "Installing collected packages: rfc3986, hyperframe, hpack, h11, chardet, sniffio, hstspreload, h2, httpcore, httpx, googletrans\n",
            "  Attempting uninstall: chardet\n",
            "    Found existing installation: chardet 4.0.0\n",
            "    Uninstalling chardet-4.0.0:\n",
            "      Successfully uninstalled chardet-4.0.0\n",
            "Successfully installed chardet-3.0.4 googletrans-3.1.0a0 h11-0.9.0 h2-3.2.0 hpack-3.0.0 hstspreload-2023.1.1 httpcore-0.9.1 httpx-0.13.3 hyperframe-5.2.0 rfc3986-1.5.0 sniffio-1.3.0\n"
          ]
        },
        {
          "output_type": "display_data",
          "data": {
            "application/vnd.colab-display-data+json": {
              "pip_warning": {
                "packages": [
                  "chardet"
                ]
              }
            }
          },
          "metadata": {}
        }
      ]
    },
    {
      "cell_type": "code",
      "source": [
        "# !pip3 uninstall googletrans\n",
        "# !pip3 install googletrans==3.1.0a0\n",
        "\n",
        "from googletrans import Translator\n",
        "translator = Translator()   \n",
        "\n",
        "Korean_text = dic['Kor_Text']\n",
        "google_translated_list = [translator.translate(text).text for text in Korean_text]\n",
        "google_translated_list\n"
      ],
      "metadata": {
        "colab": {
          "base_uri": "https://localhost:8080/"
        },
        "id": "D4OxE8_kQjP4",
        "outputId": "29eff278-9161-4934-ccc2-a03965142abb"
      },
      "execution_count": 10,
      "outputs": [
        {
          "output_type": "execute_result",
          "data": {
            "text/plain": [
              "['Oh really?',\n",
              " 'in the car?',\n",
              " 'As a dad, that can be a bit upsetting.',\n",
              " 'My sister eats really slowly.',\n",
              " 'Therefore, this part will be delivered to team member Hana Kim next week.',\n",
              " \"It's a turtle neck, me too.\",\n",
              " 'Can I even say this?',\n",
              " \"I'm going to have an event at the same time as the opening.\",\n",
              " 'How are you?',\n",
              " 'Current projections suggest that the break-even point will be exceeded.',\n",
              " 'This platform allows our valued customers to interact with designers online.',\n",
              " 'We are delighted to hear that you are interested in purchasing our products.',\n",
              " 'Currently, we are planning to reach a wide customer base in a short amount of time.',\n",
              " 'I wanted to know what Korean companies look like.',\n",
              " 'And I would appreciate it if you could let me know the earliest weekly magazine delivery date.',\n",
              " 'We ask that you fax or email us after you receive the item after December 29th.',\n",
              " 'Received high marks today from guests and CEO Baek Jong-won.',\n",
              " 'Where are you planning to spend it?',\n",
              " \"It's amazing how you found all of this.\",\n",
              " 'what! Why?',\n",
              " 'We are a five-star hotel certified by the Tourism Organization.',\n",
              " 'Then, I will purchase it as a product of BBB1.',\n",
              " 'Hello, this is AAA from BBB.',\n",
              " \"I'll do it when Seokjin comes out.\",\n",
              " 'come on, come on, come on',\n",
              " 'For the breeds used as feed, the first delivery date was confirmed after seeking a sales channel.',\n",
              " 'Next season, our company would like to further deepen our business relationship with you.',\n",
              " 'get on.',\n",
              " 'I will be arriving on Wednesday evening, so I need a place to stay from Wednesday.',\n",
              " 'What do we do?',\n",
              " \"There seems to be a discount even if you don't change your number, so I'll ask you to pay more attention.\",\n",
              " 'I wish you peace and good luck in everything you do.',\n",
              " 'I want to see those stores.',\n",
              " 'I remember that there was a notice that a notice regarding the delivery date would come when ordering.',\n",
              " 'You can just wash it there, do it with water.',\n",
              " 'I gave away a lot of catfish!',\n",
              " 'I split 3 times.',\n",
              " 'The restaurant closed early due to early loss of ingredients, and the reservation fee will be refunded.',\n",
              " 'It is made with soft pads and flexible pins.',\n",
              " 'In the meantime, along with your products, our company has grown a lot, so we like you very much.',\n",
              " 'We sincerely apologize for this inconvenience.',\n",
              " 'Tall size, please, and make sure to bring syrup.',\n",
              " 'According to the National Statistical Office, 95% of toilet paper currently on the market contains chemical components that are harmful to the human body.',\n",
              " 'You should have killed him in one hit.',\n",
              " 'Yes?',\n",
              " \"I will continue to be a team member who follows the manager's guidance well.\",\n",
              " 'Fit well.',\n",
              " 'Controls shine and stickiness and expresses smooth skin.',\n",
              " 'belonging to a certain dynasty.',\n",
              " 'I hope you had a good time.',\n",
              " 'In fact, you can make it simply with soybean paste, red pepper paste, and starch syrup.',\n",
              " 'How to?',\n",
              " 'At its moderate speed, it can do 3 meters per second.',\n",
              " 'The handle of the mat features a debossed logo.',\n",
              " 'One of the most popular products these days is handmade burgers.',\n",
              " 'Thank you for extending the purchase contract for underwear products.',\n",
              " \"Why don't you get a hint through the historical figures who lived their lives before us?\",\n",
              " \"We'll get back to you when we get back to the office.\",\n",
              " \"Send it now and we'll check it right away.\",\n",
              " 'It is a material that can minimize the residue generated when erasing.',\n",
              " 'How effective and efficient are agricultural machinery?',\n",
              " 'And if you read this email, please send the money within 2 days.',\n",
              " 'oh my god.',\n",
              " 'What do you need?',\n",
              " 'Mr. Jack said you play golf too.',\n",
              " 'We are not a company that produces consumer goods, so we are a company that is not well known to the general public.',\n",
              " 'registration certificate.',\n",
              " 'When I was pregnant, I really, really, really ate it.',\n",
              " 'I would like to purchase a king size mattress.',\n",
              " 'I hope it will be of some help in relieving the drought, but we will have to wait for rain sooner or later.',\n",
              " 'We want to buy our medicines at wholesale prices.',\n",
              " 'Oh, big.',\n",
              " 'You also have access to a premium lounge.',\n",
              " 'president.',\n",
              " 'Sorry for not being able to protect you.',\n",
              " 'We should have provided you with the best taste and quality, but we sincerely apologize for not being able to satisfy you.',\n",
              " 'I called the mart and asked, but they kept saying the same thing over and over again that they were shipping.',\n",
              " 'thank you.',\n",
              " 'So I decided to accept that part.',\n",
              " 'And please send us a shipping record confirmation to confirm that you have shipped the item.',\n",
              " 'And, if you are using Woori Bank as your main bank, you can get preferential exchange rates, so please visit the branch when you have free time and we will help you with the business you need.',\n",
              " \"Then it's cache.\",\n",
              " 'The collar stays flat and flat.',\n",
              " 'hello. This is the AAA team leader in charge of overseas shipping at BB Logistics, whom I contacted last time.',\n",
              " 'right.',\n",
              " 'The best living space cannot be achieved with technology alone.',\n",
              " 'If we make good use of that experience and technology, we expect to complete the development within the business period.',\n",
              " 'Could you tell me the date and time you booked?',\n",
              " 'I am very interested in your living room air purifier products.',\n",
              " 'Our angle-adjustable product is advantageous for checking the speed of left and right vehicles.',\n",
              " 'So, it is a product that is suitable for indoor use rather than carrying out outdoors.',\n",
              " \"Our company's products are mainly composed of electronic products.\",\n",
              " 'look at that face',\n",
              " 'already recognized abroad',\n",
              " 'OK, OK.',\n",
              " 'wait for a moment, wait for a moment',\n",
              " 'Currently, basic items such as tables and chairs are provided, but tablecloths and decorations are no longer available.',\n",
              " 'However, this is based on a daily intake of 0.5 kg of ham for 1 year.',\n",
              " 'Please pay again as soon as possible.',\n",
              " 'If the problem does not improve, we will change the vendor.',\n",
              " 'OK, my good.',\n",
              " 'The lobby has a lounge where you can relax and the front desk.',\n",
              " 'What is the wholesale price of salami?',\n",
              " 'It goes through an excellent process.',\n",
              " 'good job, good job',\n",
              " 'Is this AAA B&B?',\n",
              " 'Please ensure that the amount for the renewal of your magazine subscription has been correctly deposited.',\n",
              " 'Yes, currently, but if you order, what quantity will it be?',\n",
              " \"don't eat\",\n",
              " 'This product is made from a blend of 57% cotton, 38% polyester and 5% spandex.']"
            ]
          },
          "metadata": {},
          "execution_count": 10
        }
      ]
    },
    {
      "cell_type": "markdown",
      "source": [
        "# 3번 Huffon 모델"
      ],
      "metadata": {
        "id": "7vzP_3HyQvtG"
      }
    },
    {
      "cell_type": "code",
      "source": [
        "#  3번 Huffon 모델 "
      ],
      "metadata": {
        "id": "QEvyLGBJQl8C"
      },
      "execution_count": null,
      "outputs": []
    },
    {
      "cell_type": "code",
      "source": [
        "cd \"/content/drive/MyDrive/trans/pytorch-transformer-kor-eng\"  "
      ],
      "metadata": {
        "id": "pwbDbowwQpSK"
      },
      "execution_count": null,
      "outputs": []
    },
    {
      "cell_type": "code",
      "source": [
        "!pip install -r requirements.txt\n",
        "!python build_pickles.py --kor_vocab KOREAN_VOCAB_SIZE --eng_vocab ENGLISH_VOCAB_SIZE \n",
        "!python build_pickles.py"
      ],
      "metadata": {
        "id": "fuWYiytEQpU2"
      },
      "execution_count": null,
      "outputs": []
    },
    {
      "cell_type": "code",
      "source": [
        "huff_result = list()\n",
        "import json \n",
        "with open('/content/drive/MyDrive/trans/pytorch-transformer-kor-eng/kor_Eng.json') as f:\n",
        "  json_data = json.load(f)\n",
        "  Kor_list = json_data['Kor_Text']\n",
        "  for text in Kor_list:\n",
        "    trans = !python predict.py --input f'{text}'\n",
        "    huff_result.append(trans)\n",
        "    "
      ],
      "metadata": {
        "id": "5_XbaILNQ9hQ"
      },
      "execution_count": null,
      "outputs": []
    },
    {
      "cell_type": "markdown",
      "source": [
        "# 번역모델 비교"
      ],
      "metadata": {
        "id": "OGl0hY5JQzJK"
      }
    },
    {
      "cell_type": "code",
      "source": [
        "import pandas as pd \n",
        "\n",
        "Korean_text = dic['Kor_Text']\n",
        "naver_translated_list\n",
        "google_translated_list  \n",
        "\n",
        "df = pd.DataFrame(list(zip(Korean_text, naver_translated_list, google_translated_list)), \n",
        "                  columns = ['Korean_text', 'Naver', 'google']  \n",
        ") \n",
        "df"
      ],
      "metadata": {
        "colab": {
          "base_uri": "https://localhost:8080/",
          "height": 554
        },
        "id": "fc0n_I6gQpXI",
        "outputId": "3630892f-c68b-4dc8-ae35-45698c91f435"
      },
      "execution_count": 11,
      "outputs": [
        {
          "output_type": "execute_result",
          "data": {
            "text/plain": [
              "                                       Korean_text  \\\n",
              "0                                          아, 진짜요?   \n",
              "1                                            차 안에?   \n",
              "2                            아빠로서는 그게 좀 화가 날 수 있죠.   \n",
              "3                               언니가 진짜 되게 천천히 드시네.   \n",
              "4              따라서 이 부분은 김하나 팀원에게 다음주 전달하도록 하겠습니다.   \n",
              "..                                             ...   \n",
              "105                                 여기 AAA 민박 맞나요?   \n",
              "106          잡지 구독 갱신을 위한 금액이 정확히 입금되었는지 확인부탁드립니다.   \n",
              "107         네, 현재는 그런데 혹시 주문하신다고 하면 수량이 어느 정도 될까요?   \n",
              "108                                          안 먹고.   \n",
              "109  본 제품은 면 57%, 폴리에스터 38%, 스판덱스 5% 혼합으로 제작되었습니다.   \n",
              "\n",
              "                                                 Naver  \\\n",
              "0                                          Oh, really?   \n",
              "1                                          In the car?   \n",
              "2          As a dad, that could be a little upsetting.   \n",
              "3                          She's eating really slowly.   \n",
              "4    Therefore, I will deliver this part to Kim Han...   \n",
              "..                                                 ...   \n",
              "105                                   Is this AAA B&B?   \n",
              "106  Please check if the amount for the renewal of ...   \n",
              "107  Yes, that's right now, but if you order, how m...   \n",
              "108                                            I don't   \n",
              "109  This product is made of a mixture of 57% cotto...   \n",
              "\n",
              "                                                google  \n",
              "0                                           Oh really?  \n",
              "1                                          in the car?  \n",
              "2               As a dad, that can be a bit upsetting.  \n",
              "3                        My sister eats really slowly.  \n",
              "4    Therefore, this part will be delivered to team...  \n",
              "..                                                 ...  \n",
              "105                                   Is this AAA B&B?  \n",
              "106  Please ensure that the amount for the renewal ...  \n",
              "107  Yes, currently, but if you order, what quantit...  \n",
              "108                                          don't eat  \n",
              "109  This product is made from a blend of 57% cotto...  \n",
              "\n",
              "[110 rows x 3 columns]"
            ],
            "text/html": [
              "\n",
              "  <div id=\"df-b84572d9-74ab-4a5d-8481-6bb74e290133\">\n",
              "    <div class=\"colab-df-container\">\n",
              "      <div>\n",
              "<style scoped>\n",
              "    .dataframe tbody tr th:only-of-type {\n",
              "        vertical-align: middle;\n",
              "    }\n",
              "\n",
              "    .dataframe tbody tr th {\n",
              "        vertical-align: top;\n",
              "    }\n",
              "\n",
              "    .dataframe thead th {\n",
              "        text-align: right;\n",
              "    }\n",
              "</style>\n",
              "<table border=\"1\" class=\"dataframe\">\n",
              "  <thead>\n",
              "    <tr style=\"text-align: right;\">\n",
              "      <th></th>\n",
              "      <th>Korean_text</th>\n",
              "      <th>Naver</th>\n",
              "      <th>google</th>\n",
              "    </tr>\n",
              "  </thead>\n",
              "  <tbody>\n",
              "    <tr>\n",
              "      <th>0</th>\n",
              "      <td>아, 진짜요?</td>\n",
              "      <td>Oh, really?</td>\n",
              "      <td>Oh really?</td>\n",
              "    </tr>\n",
              "    <tr>\n",
              "      <th>1</th>\n",
              "      <td>차 안에?</td>\n",
              "      <td>In the car?</td>\n",
              "      <td>in the car?</td>\n",
              "    </tr>\n",
              "    <tr>\n",
              "      <th>2</th>\n",
              "      <td>아빠로서는 그게 좀 화가 날 수 있죠.</td>\n",
              "      <td>As a dad, that could be a little upsetting.</td>\n",
              "      <td>As a dad, that can be a bit upsetting.</td>\n",
              "    </tr>\n",
              "    <tr>\n",
              "      <th>3</th>\n",
              "      <td>언니가 진짜 되게 천천히 드시네.</td>\n",
              "      <td>She's eating really slowly.</td>\n",
              "      <td>My sister eats really slowly.</td>\n",
              "    </tr>\n",
              "    <tr>\n",
              "      <th>4</th>\n",
              "      <td>따라서 이 부분은 김하나 팀원에게 다음주 전달하도록 하겠습니다.</td>\n",
              "      <td>Therefore, I will deliver this part to Kim Han...</td>\n",
              "      <td>Therefore, this part will be delivered to team...</td>\n",
              "    </tr>\n",
              "    <tr>\n",
              "      <th>...</th>\n",
              "      <td>...</td>\n",
              "      <td>...</td>\n",
              "      <td>...</td>\n",
              "    </tr>\n",
              "    <tr>\n",
              "      <th>105</th>\n",
              "      <td>여기 AAA 민박 맞나요?</td>\n",
              "      <td>Is this AAA B&amp;B?</td>\n",
              "      <td>Is this AAA B&amp;B?</td>\n",
              "    </tr>\n",
              "    <tr>\n",
              "      <th>106</th>\n",
              "      <td>잡지 구독 갱신을 위한 금액이 정확히 입금되었는지 확인부탁드립니다.</td>\n",
              "      <td>Please check if the amount for the renewal of ...</td>\n",
              "      <td>Please ensure that the amount for the renewal ...</td>\n",
              "    </tr>\n",
              "    <tr>\n",
              "      <th>107</th>\n",
              "      <td>네, 현재는 그런데 혹시 주문하신다고 하면 수량이 어느 정도 될까요?</td>\n",
              "      <td>Yes, that's right now, but if you order, how m...</td>\n",
              "      <td>Yes, currently, but if you order, what quantit...</td>\n",
              "    </tr>\n",
              "    <tr>\n",
              "      <th>108</th>\n",
              "      <td>안 먹고.</td>\n",
              "      <td>I don't</td>\n",
              "      <td>don't eat</td>\n",
              "    </tr>\n",
              "    <tr>\n",
              "      <th>109</th>\n",
              "      <td>본 제품은 면 57%, 폴리에스터 38%, 스판덱스 5% 혼합으로 제작되었습니다.</td>\n",
              "      <td>This product is made of a mixture of 57% cotto...</td>\n",
              "      <td>This product is made from a blend of 57% cotto...</td>\n",
              "    </tr>\n",
              "  </tbody>\n",
              "</table>\n",
              "<p>110 rows × 3 columns</p>\n",
              "</div>\n",
              "      <button class=\"colab-df-convert\" onclick=\"convertToInteractive('df-b84572d9-74ab-4a5d-8481-6bb74e290133')\"\n",
              "              title=\"Convert this dataframe to an interactive table.\"\n",
              "              style=\"display:none;\">\n",
              "        \n",
              "  <svg xmlns=\"http://www.w3.org/2000/svg\" height=\"24px\"viewBox=\"0 0 24 24\"\n",
              "       width=\"24px\">\n",
              "    <path d=\"M0 0h24v24H0V0z\" fill=\"none\"/>\n",
              "    <path d=\"M18.56 5.44l.94 2.06.94-2.06 2.06-.94-2.06-.94-.94-2.06-.94 2.06-2.06.94zm-11 1L8.5 8.5l.94-2.06 2.06-.94-2.06-.94L8.5 2.5l-.94 2.06-2.06.94zm10 10l.94 2.06.94-2.06 2.06-.94-2.06-.94-.94-2.06-.94 2.06-2.06.94z\"/><path d=\"M17.41 7.96l-1.37-1.37c-.4-.4-.92-.59-1.43-.59-.52 0-1.04.2-1.43.59L10.3 9.45l-7.72 7.72c-.78.78-.78 2.05 0 2.83L4 21.41c.39.39.9.59 1.41.59.51 0 1.02-.2 1.41-.59l7.78-7.78 2.81-2.81c.8-.78.8-2.07 0-2.86zM5.41 20L4 18.59l7.72-7.72 1.47 1.35L5.41 20z\"/>\n",
              "  </svg>\n",
              "      </button>\n",
              "      \n",
              "  <style>\n",
              "    .colab-df-container {\n",
              "      display:flex;\n",
              "      flex-wrap:wrap;\n",
              "      gap: 12px;\n",
              "    }\n",
              "\n",
              "    .colab-df-convert {\n",
              "      background-color: #E8F0FE;\n",
              "      border: none;\n",
              "      border-radius: 50%;\n",
              "      cursor: pointer;\n",
              "      display: none;\n",
              "      fill: #1967D2;\n",
              "      height: 32px;\n",
              "      padding: 0 0 0 0;\n",
              "      width: 32px;\n",
              "    }\n",
              "\n",
              "    .colab-df-convert:hover {\n",
              "      background-color: #E2EBFA;\n",
              "      box-shadow: 0px 1px 2px rgba(60, 64, 67, 0.3), 0px 1px 3px 1px rgba(60, 64, 67, 0.15);\n",
              "      fill: #174EA6;\n",
              "    }\n",
              "\n",
              "    [theme=dark] .colab-df-convert {\n",
              "      background-color: #3B4455;\n",
              "      fill: #D2E3FC;\n",
              "    }\n",
              "\n",
              "    [theme=dark] .colab-df-convert:hover {\n",
              "      background-color: #434B5C;\n",
              "      box-shadow: 0px 1px 3px 1px rgba(0, 0, 0, 0.15);\n",
              "      filter: drop-shadow(0px 1px 2px rgba(0, 0, 0, 0.3));\n",
              "      fill: #FFFFFF;\n",
              "    }\n",
              "  </style>\n",
              "\n",
              "      <script>\n",
              "        const buttonEl =\n",
              "          document.querySelector('#df-b84572d9-74ab-4a5d-8481-6bb74e290133 button.colab-df-convert');\n",
              "        buttonEl.style.display =\n",
              "          google.colab.kernel.accessAllowed ? 'block' : 'none';\n",
              "\n",
              "        async function convertToInteractive(key) {\n",
              "          const element = document.querySelector('#df-b84572d9-74ab-4a5d-8481-6bb74e290133');\n",
              "          const dataTable =\n",
              "            await google.colab.kernel.invokeFunction('convertToInteractive',\n",
              "                                                     [key], {});\n",
              "          if (!dataTable) return;\n",
              "\n",
              "          const docLinkHtml = 'Like what you see? Visit the ' +\n",
              "            '<a target=\"_blank\" href=https://colab.research.google.com/notebooks/data_table.ipynb>data table notebook</a>'\n",
              "            + ' to learn more about interactive tables.';\n",
              "          element.innerHTML = '';\n",
              "          dataTable['output_type'] = 'display_data';\n",
              "          await google.colab.output.renderOutput(dataTable, element);\n",
              "          const docLink = document.createElement('div');\n",
              "          docLink.innerHTML = docLinkHtml;\n",
              "          element.appendChild(docLink);\n",
              "        }\n",
              "      </script>\n",
              "    </div>\n",
              "  </div>\n",
              "  "
            ]
          },
          "metadata": {},
          "execution_count": 11
        }
      ]
    },
    {
      "cell_type": "code",
      "source": [],
      "metadata": {
        "id": "edF3H0V0Q24h"
      },
      "execution_count": null,
      "outputs": []
    }
  ]
}